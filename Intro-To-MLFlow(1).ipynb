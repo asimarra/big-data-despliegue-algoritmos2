{
  "cells": [
    {
      "cell_type": "markdown",
      "metadata": {
        "id": "h8jKlwno2MOl"
      },
      "source": [
        "# MLflow\n",
        "\n",
        "MLflow es una plataforma de código abierto diseñada para gestionar el ciclo de vida completo de proyectos de aprendizaje automático (ML). Proporciona herramientas para la experimentación, la reproducción de modelos, el seguimiento de parámetros y métricas, así como la implementación y la gestión de modelos en diferentes entornos.\n",
        "\n",
        "## Componentes Principales\n",
        "\n",
        "1. **Tracking:** Permite realizar un seguimiento de experimentos y comparar los resultados de diferentes modelos. Registra parámetros, métricas y archivos de registro durante el entrenamiento de modelos.\n",
        "\n",
        "2. **Projects:** Ofrece una estructura para organizar código, datos y configuraciones en proyectos de aprendizaje automático. Facilita la reproducción de experimentos y la colaboración en equipos.\n",
        "\n",
        "3. **Models:** Proporciona un formato estándar para empaquetar modelos de aprendizaje automático, independientemente del marco de trabajo utilizado. Esto facilita la implementación y la integración de modelos en diferentes entornos.\n",
        "\n",
        "4. **Registry:** Permite gestionar y organizar versiones de modelos, facilitando la colaboración entre equipos y el seguimiento de cambios en los modelos.\n",
        "\n",
        "## Funcionamiento\n",
        "\n",
        "MLflow es compatible con varios marcos de trabajo de aprendizaje automático, como TensorFlow, PyTorch, Scikit-Learn y otros. Puedes utilizar MLflow en tu entorno de desarrollo local o en la nube. Además, es compatible con múltiples lenguajes de programación, como Python, R y Java.\n",
        "\n",
        "En resumen, MLflow proporciona una plataforma integral que simplifica el desarrollo, seguimiento y despliegue de modelos de aprendizaje automático, mejorando la reproducibilidad y la colaboración en proyectos de análisis de datos.\n"
      ]
    },
    {
      "cell_type": "markdown",
      "metadata": {
        "id": "P3u8CazK2MOn"
      },
      "source": [
        "## Importamos las librerias necesarias para ejecutar el notebook"
      ]
    },
    {
      "cell_type": "code",
      "execution_count": null,
      "metadata": {
        "id": "nPHklgQX2QMX"
      },
      "outputs": [],
      "source": []
    },
    {
      "cell_type": "code",
      "execution_count": null,
      "metadata": {
        "id": "0X0MOyEm2MOo"
      },
      "outputs": [],
      "source": []
    },
    {
      "cell_type": "markdown",
      "metadata": {
        "id": "HIOjNZgK2MOo"
      },
      "source": [
        "# Análisis de Datos con Scikit-Learn\n",
        "\n",
        "En este código, se realiza un análisis de datos utilizando el conjunto de datos de cáncer de mama proporcionado por Scikit-Learn. Aquí hay una breve descripción de las operaciones realizadas:\n",
        "\n",
        "1. **Carga del Conjunto de Datos:**\n",
        "   - Se carga el conjunto de datos de cáncer de mama utilizando la función `load_breast_cancer` de Scikit-Learn.\n",
        "\n",
        "2. **Creación de un DataFrame:**\n",
        "   - Se crea un DataFrame utilizando los datos del conjunto de datos, asignando las características a las columnas y la variable objetivo ('target') a una columna adicional.\n",
        "\n",
        "3. **Visualización de los Primeros Registros:**\n",
        "   - Se muestra una vista previa de los primeros registros del DataFrame para obtener una comprensión inicial de los datos.\n",
        "\n",
        "4. **Dimensiones del DataFrame:**\n",
        "   - Se imprime la forma del DataFrame para conocer el número de filas y columnas en los datos.\n",
        "\n",
        "5. **Estadísticas Descriptivas:**\n",
        "   - Se proporcionan estadísticas descriptivas del DataFrame, incluyendo conteos, medias, desviaciones estándar, mínimos y máximos.\n",
        "\n",
        "6. **Nombres de Columnas:**\n",
        "   - Se muestran los nombres de las columnas presentes en el DataFrame.\n",
        "\n",
        "Este código sirve como punto de partida para explorar y comprender el conjunto de datos de cáncer de mama, y para realizar análisis estadísticos básicos sobre sus características y variable objetivo.\n"
      ]
    },
    {
      "cell_type": "code",
      "execution_count": null,
      "metadata": {
        "id": "1NjtKy6B2MOp"
      },
      "outputs": [],
      "source": []
    },
    {
      "cell_type": "code",
      "execution_count": null,
      "metadata": {
        "id": "nIRRMsob2MOp"
      },
      "outputs": [],
      "source": []
    },
    {
      "cell_type": "code",
      "execution_count": null,
      "metadata": {
        "id": "g96xZC5r2MOp"
      },
      "outputs": [],
      "source": []
    },
    {
      "cell_type": "code",
      "execution_count": null,
      "metadata": {
        "id": "0bAIzlCA2MOq"
      },
      "outputs": [],
      "source": []
    },
    {
      "cell_type": "code",
      "execution_count": null,
      "metadata": {
        "id": "ZfIgZxb62MOq"
      },
      "outputs": [],
      "source": []
    },
    {
      "cell_type": "markdown",
      "metadata": {
        "id": "BjCYEf7J2MOq"
      },
      "source": [
        "# Entrenamiento de un Modelo con Scikit-Learn\n",
        "\n",
        "En estas líneas de código, se lleva a cabo el proceso de entrenamiento de un modelo de clasificación utilizando Scikit-Learn. Aquí se presenta una descripción resumida de las operaciones realizadas:\n",
        "\n",
        "1. **División del Conjunto de Datos:**\n",
        "   - El conjunto de datos original se divide en conjuntos de entrenamiento (train) y prueba (test) utilizando la función `train_test_split`.\n",
        "\n",
        "2. **Preparación del Conjunto de Prueba:**\n",
        "   - Se extrae la variable objetivo del conjunto de prueba y se guarda en un archivo CSV llamado 'test-target.csv'. Luego, se elimina la variable objetivo del conjunto de prueba y se guarda en otro archivo CSV llamado 'test.csv'.\n",
        "\n",
        "3. **División del Conjunto de Entrenamiento:**\n",
        "   - El conjunto de entrenamiento se divide en subconjuntos de entrenamiento y prueba utilizando la función `train_test_split` nuevamente.\n",
        "\n",
        "4. **Configuración del Modelo:**\n",
        "   - Se configura un modelo de clasificación utilizando el algoritmo Random Forest Classifier con parámetros específicos.\n",
        "\n",
        "5. **Preprocesamiento y Entrenamiento del Modelo:**\n",
        "   - Se utiliza un preprocesador que incluye un escalador estándar (StandardScaler) dentro de una tubería (Pipeline).\n",
        "   - El modelo (Random Forest Classifier) se incluye también en una tubería.\n",
        "   - La tubería completa se entrena con el conjunto de entrenamiento.\n",
        "\n",
        "En resumen, estas líneas de código representan el proceso de preparación de datos, configuración y entrenamiento de un modelo de clasificación utilizando Random Forest en Scikit-Learn.\n"
      ]
    },
    {
      "cell_type": "code",
      "execution_count": null,
      "metadata": {
        "id": "1TA18pA_2MOq"
      },
      "outputs": [],
      "source": []
    },
    {
      "cell_type": "code",
      "execution_count": null,
      "metadata": {
        "id": "rmxwFpw_2MOr"
      },
      "outputs": [],
      "source": []
    },
    {
      "cell_type": "code",
      "execution_count": null,
      "metadata": {
        "id": "JkYBACs72MOr"
      },
      "outputs": [],
      "source": []
    },
    {
      "cell_type": "code",
      "execution_count": null,
      "metadata": {
        "id": "vVAtL5H22MOr"
      },
      "outputs": [],
      "source": []
    },
    {
      "cell_type": "code",
      "execution_count": null,
      "metadata": {
        "id": "8EcTdt0Z2MOr"
      },
      "outputs": [],
      "source": []
    },
    {
      "cell_type": "markdown",
      "metadata": {
        "id": "UrVY1dib2MOs"
      },
      "source": [
        "# Evaluación del Modelo y Obtención de Parámetros\n",
        "\n",
        "En este bloque de código, se evalúa el modelo previamente entrenado y se obtienen algunos detalles sobre su rendimiento y configuración. A continuación, se presenta una breve descripción de las líneas de código:\n",
        "\n",
        "1. **Evaluación del Rendimiento en el Conjunto de Entrenamiento:**\n",
        "   - Se calcula la precisión del modelo en el conjunto de entrenamiento utilizando la función `score` y se almacena en la variable `accuracy_train`.\n",
        "   - La precisión en el conjunto de entrenamiento se imprime para evaluar cómo se desempeña el modelo en los datos utilizados para el entrenamiento.\n",
        "\n",
        "2. **Evaluación del Rendimiento en el Conjunto de Prueba:**\n",
        "   - Se calcula la precisión del modelo en el conjunto de prueba utilizando la función `score`. La precisión en el conjunto de prueba se imprime para evaluar cómo generaliza el modelo en datos no vistos.\n",
        "\n",
        "3. **Obtención de Parámetros del Modelo:**\n",
        "   - Se obtienen los parámetros del modelo utilizando la función `get_params`. Esto proporciona información detallada sobre la configuración del modelo.\n",
        "\n",
        "En resumen, estas líneas de código se centran en evaluar la precisión del modelo en los conjuntos de entrenamiento y prueba, así como en obtener información detallada sobre los parámetros del modelo.\n",
        "## Revisar algunas métricas del modelo"
      ]
    },
    {
      "cell_type": "code",
      "execution_count": null,
      "metadata": {
        "id": "7ZRH4vCU2MOs"
      },
      "outputs": [],
      "source": []
    },
    {
      "cell_type": "code",
      "execution_count": null,
      "metadata": {
        "id": "SMSephNl5hDK"
      },
      "outputs": [],
      "source": []
    },
    {
      "cell_type": "code",
      "execution_count": null,
      "metadata": {
        "id": "-OatMxsV2MOs"
      },
      "outputs": [],
      "source": []
    },
    {
      "cell_type": "code",
      "execution_count": null,
      "metadata": {
        "id": "tjcorsVe2MOs"
      },
      "outputs": [],
      "source": []
    },
    {
      "cell_type": "markdown",
      "metadata": {
        "id": "aBUfQlKD2MOs"
      },
      "source": [
        "## Asegúrate de poder ejecutar/acceder al servidor de mlflow"
      ]
    },
    {
      "cell_type": "raw",
      "metadata": {
        "id": "QBjmQdLd2MOs"
      },
      "source": [
        "Using a docker compose file or from a terminal:\n",
        "\n",
        "mlflow server \\\n",
        "--backend-store-uri sqlite:///mlflow.db \\\n",
        "--default-artifact-root ./mlflow-artifact-root \\\n",
        "--host 0.0.0.0"
      ]
    },
    {
      "cell_type": "code",
      "execution_count": null,
      "metadata": {
        "id": "Pub4PAgT2ny7"
      },
      "outputs": [],
      "source": []
    },
    {
      "cell_type": "markdown",
      "metadata": {
        "id": "TFjicHxM2MOt"
      },
      "source": [
        "# Registro y Despliegue de Modelo con MLflow\n",
        "\n",
        "En estas líneas de código, se lleva a cabo el registro y despliegue de un modelo utilizando MLflow. Aquí se presenta una descripción breve de las operaciones realizadas:\n",
        "\n",
        "1. **Configuración del Servidor MLflow:**\n",
        "   - Se inicia el servidor MLflow con la configuración del backend y el directorio de artefactos definido en un archivo Docker Compose o desde la terminal. Esto permite gestionar los experimentos y modelos de manera centralizada.\n",
        "\n",
        "2. **Configuración del Experimento:**\n",
        "   - Se establece la URI de seguimiento y el nombre del experimento con `mlflow.set_tracking_uri` y `mlflow.set_experiment`, respectivamente.\n",
        "\n",
        "3. **Registro del Modelo y Métricas:**\n",
        "   - Se inicia una ejecución de MLflow con `mlflow.start_run()` y se registra la métrica 'accuracy_train' y el modelo entrenado usando `mlflow.log_metric` y `mlflow.sklearn.log_model`.\n",
        "\n",
        "4. **Registro del Modelo en el Registro de Modelos:**\n",
        "   - Se registra el modelo en el Registro de Modelos de MLflow utilizando `mlflow.register_model`.\n",
        "\n",
        "5. **Gestión de Versiones y Despliegue:**\n",
        "   - Se obtiene la información sobre las versiones del modelo y se realiza la transición de versiones y etapas utilizando funciones específicas de la API de MLflow.\n",
        "   - Se espera a que la transición a la etapa de \"Staging\" se complete antes de actualizar la descripción del modelo con `client.update_model_version`.\n",
        "\n",
        "En resumen, estas líneas de código representan el proceso de registro, gestión de versiones y despliegue de un modelo en MLflow, permitiendo un seguimiento y control eficientes del ciclo de vida del modelo.\n"
      ]
    },
    {
      "cell_type": "code",
      "execution_count": null,
      "metadata": {
        "id": "x8g-Vkj72MOt"
      },
      "outputs": [],
      "source": []
    },
    {
      "cell_type": "code",
      "execution_count": null,
      "metadata": {
        "id": "QWR2-8aZ2MOt"
      },
      "outputs": [],
      "source": []
    },
    {
      "cell_type": "code",
      "execution_count": null,
      "metadata": {
        "id": "oC2fzCQ02MOt"
      },
      "outputs": [],
      "source": []
    },
    {
      "cell_type": "code",
      "execution_count": null,
      "metadata": {
        "id": "khtALVqI2MOt"
      },
      "outputs": [],
      "source": []
    },
    {
      "cell_type": "code",
      "execution_count": null,
      "metadata": {
        "id": "UlmsbdwA2MOt"
      },
      "outputs": [],
      "source": []
    },
    {
      "cell_type": "code",
      "execution_count": null,
      "metadata": {
        "id": "4QlJ2EJm2MOt"
      },
      "outputs": [],
      "source": []
    },
    {
      "cell_type": "code",
      "execution_count": null,
      "metadata": {
        "id": "QaZ0q7Bq2MOu"
      },
      "outputs": [],
      "source": []
    },
    {
      "cell_type": "code",
      "execution_count": null,
      "metadata": {
        "id": "K4YN4vNU2MOu"
      },
      "outputs": [],
      "source": []
    },
    {
      "cell_type": "markdown",
      "metadata": {
        "id": "5BBkczN92MOu"
      },
      "source": [
        "# Despliegue y Predicciones con el Modelo MLflow\n",
        "\n",
        "En estas líneas de código, se realiza el despliegue del modelo registrado en MLflow y se hacen predicciones utilizando el modelo desplegado. A continuación, se presenta una breve descripción de las operaciones realizadas:\n",
        "\n",
        "1. **Carga del Modelo Desplegado:**\n",
        "   - Se carga el modelo desplegado desde el Registro de Modelos de MLflow utilizando `mlflow.pyfunc.load_model`.\n",
        "\n",
        "2. **Realización de Predicciones:**\n",
        "   - Se utiliza el modelo cargado para realizar predicciones sobre el conjunto de prueba (`test[features]`), generando probabilidades predichas.\n",
        "\n",
        "3. **Despliegue del Modelo con MLflow:**\n",
        "   - Se especifica la URI del modelo y se inicia un servidor MLflow para el despliegue del modelo utilizando `mlflow models serve`.\n",
        "\n",
        "4. **Realización de Predicciones a través de la API:**\n",
        "   - Se utiliza la API REST del modelo desplegado para realizar predicciones sobre un conjunto de datos de prueba (`test.csv`) a través de una solicitud HTTP con `curl`.\n",
        "\n",
        "5. **Procesamiento de las Respuestas de la API:**\n",
        "   - Se procesan las respuestas de la API, que contienen probabilidades predichas, convirtiéndolas en una lista de objetivos binarios.\n",
        "\n",
        "En resumen, estas líneas de código representan el proceso de carga, despliegue y predicciones utilizando un modelo previamente registrado en MLflow, permitiendo el acceso a las predicciones a través de una API REST.\n"
      ]
    },
    {
      "cell_type": "code",
      "execution_count": null,
      "metadata": {
        "id": "0TyAG8vE2MOu"
      },
      "outputs": [],
      "source": []
    },
    {
      "cell_type": "code",
      "execution_count": null,
      "metadata": {
        "id": "VMCNlbcbJ6Kc"
      },
      "outputs": [],
      "source": []
    },
    {
      "cell_type": "code",
      "execution_count": null,
      "metadata": {
        "id": "pul3qn1q2MOu"
      },
      "outputs": [],
      "source": []
    },
    {
      "cell_type": "raw",
      "metadata": {
        "id": "x_t09ZFi2MOu"
      },
      "source": [
        "You can use a docker compose file or locally run:\n",
        "\n",
        "export MLFLOW_TRACKING_URI=http://localhost:5000\n",
        "mlflow models serve -m models:/clf-model/Staging -p 1234 -h 0.0.0.0"
      ]
    }
  ],
  "metadata": {
    "colab": {
      "provenance": []
    },
    "kernelspec": {
      "display_name": "Python 3",
      "language": "python",
      "name": "python3"
    },
    "language_info": {
      "codemirror_mode": {
        "name": "ipython",
        "version": 3
      },
      "file_extension": ".py",
      "mimetype": "text/x-python",
      "name": "python",
      "nbconvert_exporter": "python",
      "pygments_lexer": "ipython3",
      "version": "3.7.3"
    },
    "name": "sklearn-test",
    "notebookId": 3177477930627754
  },
  "nbformat": 4,
  "nbformat_minor": 0
}